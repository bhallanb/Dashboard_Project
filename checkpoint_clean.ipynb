{
 "cells": [
  {
   "cell_type": "code",
   "execution_count": 1,
   "metadata": {
    "collapsed": true
   },
   "outputs": [],
   "source": [
    "import pandas as pd\n",
    "from IPython.core.interactiveshell import InteractiveShell\n",
    "InteractiveShell.ast_node_interactivity = \"all\""
   ]
  },
  {
   "cell_type": "code",
   "execution_count": 2,
   "metadata": {
    "collapsed": false
   },
   "outputs": [
    {
     "name": "stdout",
     "output_type": "stream",
     "text": [
      " Volume in drive C has no label.\n",
      " Volume Serial Number is 7284-E5EF\n",
      "\n",
      " Directory of C:\\Users\\Surnaik\\Desktop\\Neha\\Santa Clara\\academics\\Qtr3\\Dashboard\\Group Projct\n",
      "\n",
      "04/27/2017  01:26 PM           498,159 Auro_Intervention_Data.csv\n",
      "05/22/2017  09:43 AM               524 checkpoint.csv\n",
      "               2 File(s)        498,683 bytes\n",
      "               0 Dir(s)  24,830,529,536 bytes free\n"
     ]
    }
   ],
   "source": [
    "!dir *.csv"
   ]
  },
  {
   "cell_type": "code",
   "execution_count": 5,
   "metadata": {
    "collapsed": false
   },
   "outputs": [
    {
     "data": {
      "text/html": [
       "<div>\n",
       "<table border=\"1\" class=\"dataframe\">\n",
       "  <thead>\n",
       "    <tr style=\"text-align: right;\">\n",
       "      <th></th>\n",
       "      <th>0</th>\n",
       "      <th>1</th>\n",
       "      <th>2</th>\n",
       "      <th>3</th>\n",
       "      <th>4</th>\n",
       "    </tr>\n",
       "  </thead>\n",
       "  <tbody>\n",
       "    <tr>\n",
       "      <th>0</th>\n",
       "      <td>10</td>\n",
       "      <td>7</td>\n",
       "      <td>37.349903</td>\n",
       "      <td>-121.937686</td>\n",
       "      <td>Veterans Plaza</td>\n",
       "    </tr>\n",
       "    <tr>\n",
       "      <th>1</th>\n",
       "      <td>11</td>\n",
       "      <td>7</td>\n",
       "      <td>37.350171</td>\n",
       "      <td>-121.938950</td>\n",
       "      <td>Vari Hall - Westbound</td>\n",
       "    </tr>\n",
       "    <tr>\n",
       "      <th>2</th>\n",
       "      <td>12</td>\n",
       "      <td>7</td>\n",
       "      <td>37.350146</td>\n",
       "      <td>-121.938974</td>\n",
       "      <td>Admissions Center - Eastbound</td>\n",
       "    </tr>\n",
       "    <tr>\n",
       "      <th>3</th>\n",
       "      <td>13</td>\n",
       "      <td>7</td>\n",
       "      <td>37.349587</td>\n",
       "      <td>-121.941138</td>\n",
       "      <td>Mission</td>\n",
       "    </tr>\n",
       "    <tr>\n",
       "      <th>4</th>\n",
       "      <td>14</td>\n",
       "      <td>7</td>\n",
       "      <td>37.350574</td>\n",
       "      <td>-121.941718</td>\n",
       "      <td>Franklin St.</td>\n",
       "    </tr>\n",
       "  </tbody>\n",
       "</table>\n",
       "</div>"
      ],
      "text/plain": [
       "    0  1          2           3                              4\n",
       "0  10  7  37.349903 -121.937686                 Veterans Plaza\n",
       "1  11  7  37.350171 -121.938950          Vari Hall - Westbound\n",
       "2  12  7  37.350146 -121.938974  Admissions Center - Eastbound\n",
       "3  13  7  37.349587 -121.941138                        Mission\n",
       "4  14  7  37.350574 -121.941718                   Franklin St."
      ]
     },
     "execution_count": 5,
     "metadata": {},
     "output_type": "execute_result"
    }
   ],
   "source": [
    "checkpoint = pd.read_csv('checkpoint.csv', header = None, usecols=[0,1,2,3,4])\n",
    "checkpoint.head()"
   ]
  },
  {
   "cell_type": "code",
   "execution_count": 10,
   "metadata": {
    "collapsed": true
   },
   "outputs": [],
   "source": [
    "checkpoint.columns = ['checkpoint_id', 'zone_id', 'latitude','longitude','location_name']"
   ]
  },
  {
   "cell_type": "code",
   "execution_count": 11,
   "metadata": {
    "collapsed": false
   },
   "outputs": [
    {
     "data": {
      "text/plain": [
       "checkpoint_id    6\n",
       "zone_id          6\n",
       "latitude         6\n",
       "longitude        6\n",
       "location_name    6\n",
       "dtype: int64"
      ]
     },
     "execution_count": 11,
     "metadata": {},
     "output_type": "execute_result"
    }
   ],
   "source": [
    "checkpoint.count()\n"
   ]
  },
  {
   "cell_type": "code",
   "execution_count": 12,
   "metadata": {
    "collapsed": false
   },
   "outputs": [
    {
     "data": {
      "text/html": [
       "<div>\n",
       "<table border=\"1\" class=\"dataframe\">\n",
       "  <thead>\n",
       "    <tr style=\"text-align: right;\">\n",
       "      <th></th>\n",
       "      <th>checkpoint_id</th>\n",
       "      <th>zone_id</th>\n",
       "      <th>latitude</th>\n",
       "      <th>longitude</th>\n",
       "      <th>location_name</th>\n",
       "    </tr>\n",
       "  </thead>\n",
       "  <tbody>\n",
       "    <tr>\n",
       "      <th>0</th>\n",
       "      <td>10</td>\n",
       "      <td>7</td>\n",
       "      <td>37.349903</td>\n",
       "      <td>-121.937686</td>\n",
       "      <td>Veterans Plaza</td>\n",
       "    </tr>\n",
       "    <tr>\n",
       "      <th>1</th>\n",
       "      <td>11</td>\n",
       "      <td>7</td>\n",
       "      <td>37.350171</td>\n",
       "      <td>-121.938950</td>\n",
       "      <td>Vari Hall - Westbound</td>\n",
       "    </tr>\n",
       "    <tr>\n",
       "      <th>2</th>\n",
       "      <td>12</td>\n",
       "      <td>7</td>\n",
       "      <td>37.350146</td>\n",
       "      <td>-121.938974</td>\n",
       "      <td>Admissions Center - Eastbound</td>\n",
       "    </tr>\n",
       "    <tr>\n",
       "      <th>3</th>\n",
       "      <td>13</td>\n",
       "      <td>7</td>\n",
       "      <td>37.349587</td>\n",
       "      <td>-121.941138</td>\n",
       "      <td>Mission</td>\n",
       "    </tr>\n",
       "    <tr>\n",
       "      <th>4</th>\n",
       "      <td>14</td>\n",
       "      <td>7</td>\n",
       "      <td>37.350574</td>\n",
       "      <td>-121.941718</td>\n",
       "      <td>Franklin St.</td>\n",
       "    </tr>\n",
       "    <tr>\n",
       "      <th>5</th>\n",
       "      <td>15</td>\n",
       "      <td>7</td>\n",
       "      <td>37.348310</td>\n",
       "      <td>-121.940527</td>\n",
       "      <td>Santa Clara St.</td>\n",
       "    </tr>\n",
       "  </tbody>\n",
       "</table>\n",
       "</div>"
      ],
      "text/plain": [
       "   checkpoint_id  zone_id   latitude   longitude  \\\n",
       "0             10        7  37.349903 -121.937686   \n",
       "1             11        7  37.350171 -121.938950   \n",
       "2             12        7  37.350146 -121.938974   \n",
       "3             13        7  37.349587 -121.941138   \n",
       "4             14        7  37.350574 -121.941718   \n",
       "5             15        7  37.348310 -121.940527   \n",
       "\n",
       "                   location_name  \n",
       "0                 Veterans Plaza  \n",
       "1          Vari Hall - Westbound  \n",
       "2  Admissions Center - Eastbound  \n",
       "3                        Mission  \n",
       "4                   Franklin St.  \n",
       "5                Santa Clara St.  "
      ]
     },
     "execution_count": 12,
     "metadata": {},
     "output_type": "execute_result"
    }
   ],
   "source": [
    "checkpoint.dropna()"
   ]
  },
  {
   "cell_type": "code",
   "execution_count": 14,
   "metadata": {
    "collapsed": false
   },
   "outputs": [],
   "source": [
    "checkpoint.to_csv('checkpoint_clean.csv')"
   ]
  },
  {
   "cell_type": "code",
   "execution_count": null,
   "metadata": {
    "collapsed": true
   },
   "outputs": [],
   "source": []
  }
 ],
 "metadata": {
  "kernelspec": {
   "display_name": "Python 3",
   "language": "python",
   "name": "python3"
  },
  "language_info": {
   "codemirror_mode": {
    "name": "ipython",
    "version": 3
   },
   "file_extension": ".py",
   "mimetype": "text/x-python",
   "name": "python",
   "nbconvert_exporter": "python",
   "pygments_lexer": "ipython3",
   "version": "3.6.0"
  }
 },
 "nbformat": 4,
 "nbformat_minor": 2
}
